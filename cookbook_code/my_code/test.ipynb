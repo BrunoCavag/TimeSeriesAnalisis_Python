{
 "cells": [],
 "metadata": {
  "kernelspec": {
   "display_name": "Python 3.9.5 ('python_timeseries': venv)",
   "language": "python",
   "name": "python3"
  },
  "language_info": {
   "codemirror_mode": {
    "name": "ipython",
    "version": 3
   },
   "file_extension": ".py",
   "mimetype": "text/x-python",
   "name": "python",
   "nbconvert_exporter": "python",
   "pygments_lexer": "ipython3",
   "version": "3.9.5"
  },
  "orig_nbformat": 4,
  "vscode": {
   "interpreter": {
    "hash": "6d3e10d403c1b6bad49adc229eba97782c195f52fdc78f1eb89f1161ca92edf2"
   }
  }
 },
 "nbformat": 4,
 "nbformat_minor": 2
}
